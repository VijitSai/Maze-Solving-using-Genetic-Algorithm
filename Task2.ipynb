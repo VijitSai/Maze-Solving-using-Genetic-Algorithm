{
 "cells": [
  {
   "cell_type": "code",
   "execution_count": 11,
   "metadata": {},
   "outputs": [],
   "source": [
    "# low = lower range for variables, high = higher range for variables\n",
    "def genesis(size,var, high , low):\n",
    "   pop_size = (size,var)\n",
    "   new_pop = np.random.uniform(low=low,high=high,size=pop_size)\n",
    "   return new_pop"
   ]
  },
  {
   "cell_type": "code",
   "execution_count": 12,
   "metadata": {},
   "outputs": [],
   "source": [
    "import math\n",
    "def fitness(p):\n",
    "# Evaluating fitness Interference function \"double fit (doublep[])\".\n",
    "    fitness=np.zeros((len(p),1))\n",
    "    for i in range(len(p)):\n",
    "        x,y,z = p[i][0] , p[i][1] , p[i][2]\n",
    "        # Define your fitness function here\n",
    "        v1 = 2*x*z*(math.e**(-x))\n",
    "        v2 = 2*(y**3)\n",
    "        v3 = y**2\n",
    "        v4 = 3*(z**3)\n",
    "        \n",
    "        val = v1 - v2 + v3 - v4\n",
    "        \n",
    "        fitness[i,0] = val\n",
    "        # fitness[i,0] = 2*x*z*math.exp(-x)-2*y**3+y**2-3*z**3\n",
    "    return fitness"
   ]
  },
  {
   "cell_type": "code",
   "execution_count": 13,
   "metadata": {},
   "outputs": [],
   "source": [
    "def selection(pop, fitness, num_parents):\n",
    "   parents = np.empty((num_parents, pop.shape[1]))\n",
    "   for parent_num in range(num_parents):\n",
    "      max_fitness_idx = np.where(fitness == np.max(fitness))\n",
    "      max_fitness_idx = max_fitness_idx[0][0]\n",
    "      parents[parent_num, :] = pop[max_fitness_idx, :]\n",
    "      fitness[max_fitness_idx] = -99999999999\n",
    "   return parents"
   ]
  },
  {
   "cell_type": "code",
   "execution_count": 14,
   "metadata": {},
   "outputs": [],
   "source": [
    "def crossover(parents, offspring_size):\n",
    "   offspring = np.empty(offspring_size)\n",
    "   crossover_point = np.uint8(offspring_size[1]/2)\n",
    "   for k in range(offspring_size[0]):\n",
    "      parent1_idx = k%parents.shape[0]\n",
    "      parent2_idx = (k+1)%parents.shape[0]\n",
    "      offspring[k, 0:crossover_point] = parents[parent1_idx,     0:crossover_point]\n",
    "      offspring[k, crossover_point:] = parents[parent2_idx, crossover_point:]\n",
    "   return offspring"
   ]
  },
  {
   "cell_type": "code",
   "execution_count": 15,
   "metadata": {},
   "outputs": [],
   "source": [
    "def mutation(offspring_crossover):\n",
    "   for idx in range(offspring_crossover.shape[0]):\n",
    "      random_value = np.random.uniform(-10, 10, 1)\n",
    "# 10 percent change maximum keeping 90 percent mutation rate \n",
    "      i= randint(0, 2)\n",
    "      offspring_crossover[idx, i] = offspring_crossover[idx, i] + random_value \n",
    "   return offspring_crossover"
   ]
  },
  {
   "cell_type": "code",
   "execution_count": 16,
   "metadata": {},
   "outputs": [],
   "source": [
    "import numpy as np\n",
    "from random import randint\n",
    "\n",
    "num_var = 3\n",
    "sizeof_pop= 100\n",
    "upper_limit = 100\n",
    "lower_limit = -100\n",
    "num_parents = 2\n",
    "\n",
    "population = genesis(sizeof_pop , num_var, upper_limit ,lower_limit)\n",
    "# print(population)\n",
    "Scores=[]\n",
    "num_generations = 20\n",
    "for generation in range(num_generations):\n",
    "   # print(\"\\n\\nGeneration : \", generation)\n",
    "   fitness_score = fitness(population)\n",
    "   parents = selection(population, fitness_score, num_parents)\n",
    "   # print(\"Best Parents \\n\",parents)\n",
    "   offspring_crossover = crossover(parents, offspring_size=(2*num_parents, num_var))\n",
    "   offspring_mutation = mutation(offspring_crossover)\n",
    "   # print(\"Mutated OffSprings\\n\",offspring_mutation)\n",
    "   population[0:parents.shape[0], :] = parents\n",
    "   population[parents.shape[0]:6, :] = offspring_mutation\n",
    "   Scores.append(np.max(fitness_score))\n",
    "   # print(\"Best result : \", np.max(fitness_score))"
   ]
  },
  {
   "cell_type": "code",
   "execution_count": 17,
   "metadata": {},
   "outputs": [
    {
     "data": {
      "image/png": "[encoded data removed]",
      "text/plain": [
       "<Figure size 432x288 with 1 Axes>"
      ]
     },
     "metadata": {
      "needs_background": "light"
     },
     "output_type": "display_data"
    }
   ],
   "source": [
    "import matplotlib.pyplot as plt\n",
    "Evaluations = Scores\n",
    "plt.plot(Evaluations,'o-',color='red')\n",
    "plt.yscale('log')\n",
    "plt.xlabel('Generations')\n",
    "plt.ylabel('Function Value')\n",
    "plt.title(\"Maximization of Function\")\n",
    "plt.grid(True)\n",
    "plt.show()"
   ]
  },
  {
   "cell_type": "code",
   "execution_count": null,
   "metadata": {},
   "outputs": [],
   "source": []
  },
  {
   "cell_type": "code",
   "execution_count": null,
   "metadata": {},
   "outputs": [],
   "source": []
  }
 ],
 "metadata": {
  "kernelspec": {
   "display_name": "Python 3.7.4 ('base')",
   "language": "python",
   "name": "python3"
  },
  "language_info": {
   "codemirror_mode": {
    "name": "ipython",
    "version": 3
   },
   "file_extension": ".py",
   "mimetype": "text/x-python",
   "name": "python",
   "nbconvert_exporter": "python",
   "pygments_lexer": "ipython3",
   "version": "3.7.4"
  },
  "vscode": {
   "interpreter": {
    "hash": "61fafdb71d1028db232fa59a481535f4f9a73980fc5d08e5a792e1e661d3770c"
   }
  }
 },
 "nbformat": 4,
 "nbformat_minor": 2
}
